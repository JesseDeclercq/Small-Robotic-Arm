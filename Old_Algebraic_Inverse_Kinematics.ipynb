{
 "cells": [
  {
   "cell_type": "code",
   "execution_count": 1,
   "metadata": {},
   "outputs": [
    {
     "name": "stdout",
     "output_type": "stream",
     "text": [
      "Theta1: 0.7853981633974483\n",
      "\n",
      " End Effector Coordinates x = 0.15  y =  0.25  z =  0.15  phi =  -60\n",
      "Theta 1  45.0  at time \n",
      "Theta 2  -1.0  at time \n",
      "Theta 3  145.0  at time \n",
      "Theta 4  74.0  at time\n",
      "There was an impossibility satisfying the given coordinates, please reconsider your input. The following angles will be returned instead\n"
     ]
    },
    {
     "data": {
      "text/plain": [
       "array([ 45.,   0., 145.,  74.,   0.])"
      ]
     },
     "execution_count": 1,
     "metadata": {},
     "output_type": "execute_result"
    }
   ],
   "source": [
    "#----------------------------------Offset inverse kinematics----------------------------------\n",
    "from IPython.display import clear_output\n",
    "import numpy as np\n",
    "import keyboard\n",
    "import serial\n",
    "import struct\n",
    "import math\n",
    "import time\n",
    "def InverseKinematics(x,z,y,phi): #The Algebraic Method -- Everything is in meters \n",
    "    l1 = 0.130 \n",
    "    l2 = 0.130\n",
    "    l3 = 0.150\n",
    "    a2 = l1\n",
    "    a3 = l2\n",
    "    a4 = l3\n",
    "    OFFSET2 = 35\n",
    "    OFFSET3 = -60 \n",
    "    OFFSET4 = 35\n",
    "    y = -y + 0.25 # offset value for height of gripper #something is wrong with the height calculation where the + is down and the - is up.\n",
    "    phie = phi\n",
    "    phi = phi*(np.pi/180)\n",
    "    Theta1 = np.arctan2(z, x)\n",
    "    print('Theta1:',Theta1)\n",
    "    C3 = ((x*np.cos(Theta1) + y*np.sin(Theta1) - a4*np.cos(phi))**2 + (z - a4*np.sin(phi))**2 - a3**2 -a2**2) \n",
    "    S3 = (1 - C3**2)**0.5 #A test regarding the negative or positive of the root must still be determined NB!!!\n",
    "    Theta3 = np.arctan2(S3, C3)#The value of S2 is dependent on S3 so remember the sign importance.\n",
    "    S2 = (C3*a3 + a2)*(z - np.sin(phi)*a4) - S3*a3*(x*np.cos(Theta1) + y*np.sin(Theta1) - np.cos(phi)*a4)/(C3*a3 + a2)**2 + S3**2*a3**2\n",
    "    C2 = (C3*a3 + a2)*(x-np.cos(Theta1) + y*np.sin(Theta1) - np.cos(phi)*a4) + S3*a3*(z - a4*np.sin(phi))/(C3*a3 + a2)**2 + S3**2*a3**2\n",
    "    Theta2 = np.arctan2(S2, C2)\n",
    "    Theta4 = phi - Theta2 - Theta3\n",
    "    Theta1 = np.round(Theta1 * 180/np.pi)\n",
    "    Theta2 = np.round(Theta2 * 180/np.pi)\n",
    "    Theta3 = np.round(Theta3 * 180/np.pi)\n",
    "    Theta4 = np.round(Theta4 * 180/np.pi)\n",
    "    Theta2 = (Theta2 + OFFSET2) \n",
    "    Theta3 = (Theta3 - OFFSET3)\n",
    "    Theta4 = abs(Theta4 + OFFSET4) \n",
    "    Theta5 = 0 # iniital open gripper\n",
    "    print(\"\\n End Effector Coordinates x =\", x ,\" y = \",y,\" z = \",z, \" phi = \", phie)\n",
    "    print(\"Theta 1 \", np.round(Theta1) , \" at time \")\n",
    "    print(\"Theta 2 \", np.round(Theta2) , \" at time \")\n",
    "    print(\"Theta 3 \", np.round(Theta3), \" at time \")\n",
    "    print(\"Theta 4 \", np.round(Theta4), \" at time\")\n",
    "    Angles = np.array([(Theta1), (Theta2), (Theta3), (Theta4), (Theta5)])\n",
    "    if (Theta1 < 0) or (Theta2<0) or (Theta3<0) or (Theta4<0):\n",
    "        print('There was an impossibility satisfying the given coordinates, please reconsider your input. The following angles will be returned instead')\n",
    "        for i in np.arange(0,len(Angles),1):\n",
    "            if Angles[i] < 0:\n",
    "                Angles[i] = 0;\n",
    "    return Angles\n",
    "\n",
    "\n",
    "InverseKinematics(0.15,0.15,0,-60)"
   ]
  },
  {
   "cell_type": "code",
   "execution_count": 2,
   "metadata": {},
   "outputs": [
    {
     "name": "stdout",
     "output_type": "stream",
     "text": [
      "Theta 1  0.0  at time \n",
      "Theta 2  -16.0  at time \n",
      "Theta 3  90.0  at time \n",
      "Theta 4  -119.0  at time\n"
     ]
    },
    {
     "data": {
      "text/plain": [
       "array([   0.,  -16.,   90., -119.,    0.])"
      ]
     },
     "execution_count": 2,
     "metadata": {},
     "output_type": "execute_result"
    }
   ],
   "source": [
    "#----------------------------------Original inverse kinematics----------------------------------\n",
    "from IPython.display import clear_output\n",
    "import numpy as np\n",
    "import keyboard\n",
    "import serial\n",
    "import struct\n",
    "import math\n",
    "import time\n",
    "def InverseKinematics(x,y,z,phi): #The Algebraic Method -- Everything is in meters \n",
    "    l1 = 0.130 \n",
    "    l2 = 0.130\n",
    "    l3 = 0.150\n",
    "    a2 = l1\n",
    "    a3 = l2\n",
    "    a4 = l3\n",
    "    \n",
    "    #y = y + 0.10\n",
    "    \n",
    "    phi = phi*(np.pi/180)\n",
    "    \n",
    "    #radian\n",
    "    Theta1 = np.arctan2(y, x) # this returns a radian value\n",
    "    \n",
    "    C3 = ((x*np.cos(Theta1) + y*np.sin(Theta1) - a4*np.cos(phi))**2 + (z - a4*np.sin(phi))**2 - a3**2 -a2**2)/2*a2*a3\n",
    "    \n",
    "    #A test regarding the negative or positive of the root must still be determined NB!!!\n",
    "    \n",
    "    S3 = (1 - C3**2)**0.5\n",
    "    \n",
    "    Theta3 = np.arctan2(S3, C3)#The value of S2 is dependent on S3 so remember the sign importance.\n",
    "    \n",
    "    S2 = (C3*a3 + a2)*(z - np.sin(phi)*a4) - S3*a3*(x*np.cos(Theta1) + y*np.sin(Theta1) - np.cos(phi)*a4)/(C3*a3 + a2)**2 + S3**2*a3**2\n",
    "    C2 = (C3*a3 + a2)*(x-np.cos(Theta1) + y*np.sin(Theta1) - np.cos(phi)*a4) + S3*a3*(z - a4*np.sin(phi))/(C3*a3 + a2)**2 + S3**2*a3**2\n",
    "    Theta2 = np.arctan2(S2, C2)\n",
    "    Theta4 = phi - Theta2 - Theta3\n",
    "    \n",
    "    Theta1 = np.round(Theta1 * 180/np.pi)\n",
    "    Theta2 = np.round(Theta2 * 180/np.pi)\n",
    "    Theta3 = np.round(Theta3 * 180/np.pi)\n",
    "    Theta4 = np.round(Theta4 * 180/np.pi)\n",
    "    Theta5 = 0 # iniital open gripper\n",
    "    \n",
    "    print(\"Theta 1 \", np.round(Theta1) , \" at time \")\n",
    "    print(\"Theta 2 \", np.round(Theta2) , \" at time \")\n",
    "    print(\"Theta 3 \", np.round(Theta3), \" at time \")\n",
    "    print(\"Theta 4 \", np.round(Theta4), \" at time\")\n",
    "    \n",
    "    Angles = np.array([(Theta1), (Theta2), (Theta3), (Theta4), (Theta5)])  \n",
    "    return Angles\n",
    "\n",
    "#x,z,y,phi\n",
    "InverseKinematics(0.2,0,0.2,-45)"
   ]
  },
  {
   "cell_type": "code",
   "execution_count": null,
   "metadata": {},
   "outputs": [],
   "source": [
    "# from the main voyager it was used\n",
    "def InverseKinematics(x,z,y,phi): #The Algebraic Method -- Everything is in meters     \n",
    "    l1 = 0.130 \n",
    "    l2 = 0.130\n",
    "    l3 = 0.150\n",
    "    a2 = l1\n",
    "    a3 = l2\n",
    "    a4 = l3\n",
    "    OFFSET2 = 35\n",
    "    OFFSET3 = -60 \n",
    "    OFFSET4 = 35\n",
    "    y = -y + 0.25 # offset value for height of gripper #something is wrong with the height calculation where the + is down and the - is up.\n",
    "    phie = phi\n",
    "    phi = phi*(np.pi/180)\n",
    "    Theta1 = np.arctan2(z, x)\n",
    "    C3 = ((x*np.cos(Theta1) + y*np.sin(Theta1) - a4*np.cos(phi))**2 + (z - a4*np.sin(phi))**2 - a3**2 -a2**2) \n",
    "    S3 = (1 - C3**2)**0.5 #A test regarding the negative or positive of the root must still be determined NB!!!\n",
    "    Theta3 = np.arctan2(S3, C3)#The value of S2 is dependent on S3 so remember the sign importance.\n",
    "    S2 = (C3*a3 + a2)*(z - np.sin(phi)*a4) - S3*a3*(x*np.cos(Theta1) + y*np.sin(Theta1) - np.cos(phi)*a4)/(C3*a3 + a2)**2 + S3**2*a3**2\n",
    "    C2 = (C3*a3 + a2)*(x-np.cos(Theta1) + y*np.sin(Theta1) - np.cos(phi)*a4) + S3*a3*(z - a4*np.sin(phi))/(C3*a3 + a2)**2 + S3**2*a3**2\n",
    "    Theta2 = np.arctan2(S2, C2)\n",
    "    Theta4 = phi - Theta2 - Theta3\n",
    "    Theta1 = np.round(Theta1 * 180/np.pi)\n",
    "    Theta2 = np.round(Theta2 * 180/np.pi)\n",
    "    Theta3 = np.round(Theta3 * 180/np.pi)\n",
    "    Theta4 = np.round(Theta4 * 180/np.pi)\n",
    "    Theta2 = (Theta2 + OFFSET2) \n",
    "    Theta3 = (Theta3 - OFFSET3)\n",
    "    Theta4 = abs(Theta4 + OFFSET4) \n",
    "    Theta5 = 0 # iniital open gripper\n",
    "    print(\"\\n End Effector Coordinates x =\", x ,\" y = \",y,\" z = \",z, \" phi = \", phie)\n",
    "    print(\"Theta 1 \", np.round(Theta1) , \" at time \")\n",
    "    print(\"Theta 2 \", np.round(Theta2) , \" at time \")\n",
    "    print(\"Theta 3 \", np.round(Theta3), \" at time \")\n",
    "    print(\"Theta 4 \", np.round(Theta4), \" at time\")\n",
    "    Angles = np.array([(Theta1), (Theta2), (Theta3), (Theta4), (Theta5)])\n",
    "    if (Theta1 < 0) or (Theta2<0) or (Theta3<0) or (Theta4<0):\n",
    "        print('There was an impossibility satisfying the given coordinates, please reconsider your input. The following angles will be returned instead')\n",
    "        for i in np.arange(0,len(Angles),1):\n",
    "            if Angles[i] < 0:\n",
    "                Angles[i] = 0;\n",
    "    return Angles   \n",
    "\n"
   ]
  }
 ],
 "metadata": {
  "kernelspec": {
   "display_name": "Python 3",
   "language": "python",
   "name": "python3"
  },
  "language_info": {
   "codemirror_mode": {
    "name": "ipython",
    "version": 3
   },
   "file_extension": ".py",
   "mimetype": "text/x-python",
   "name": "python",
   "nbconvert_exporter": "python",
   "pygments_lexer": "ipython3",
   "version": "3.7.1"
  }
 },
 "nbformat": 4,
 "nbformat_minor": 2
}
