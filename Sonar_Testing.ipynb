{
 "cells": [
  {
   "cell_type": "code",
   "execution_count": 18,
   "metadata": {},
   "outputs": [],
   "source": [
    "from IPython.display import clear_output\n",
    "import numpy as np\n",
    "import keyboard\n",
    "import serial\n",
    "import struct\n",
    "import math\n",
    "import time\n",
    "serialPort = serial.Serial(port = \"COM4\",baudrate=115200, bytesize=8,stopbits=serial.STOPBITS_ONE)\n",
    "Theta = np.array([0,134,5,179,0]) # starting position for scaning\n",
    "Time = Theta*0.01031 + 0.544\n",
    "RB = abs(Time*24e3/16)\n",
    "RB_array = np.array(RB, dtype = np.single) # this converts the array values to float values.\n",
    "RB_binary = RB_array.tobytes() # converts float into bytes\n",
    "for i in np.arange(1,6,1):\n",
    "    voyager = np.array([160,i,RB_binary[(i-1)*4],RB_binary[(i-1)*4+1],RB_binary[(i-1)*4+2],RB_binary[(i-1)*4+3],176,177], dtype = np.uint8)\n",
    "    serialPort.write(voyager.data)\n",
    "    "
   ]
  },
  {
   "cell_type": "code",
   "execution_count": 22,
   "metadata": {},
   "outputs": [
    {
     "name": "stdout",
     "output_type": "stream",
     "text": [
      "Distance =  0.0\n"
     ]
    }
   ],
   "source": [
    "readserial = (serialPort.read(size = 8))\n",
    "distarray = [readserial[2],readserial[3],readserial[4],readserial[5]]\n",
    "distance = struct.unpack('f',bytes(distarray)) \n",
    "\n",
    "print('Distance = ', distance[0])"
   ]
  },
  {
   "cell_type": "code",
   "execution_count": null,
   "metadata": {},
   "outputs": [],
   "source": []
  },
  {
   "cell_type": "code",
   "execution_count": null,
   "metadata": {},
   "outputs": [],
   "source": []
  }
 ],
 "metadata": {
  "kernelspec": {
   "display_name": "Python 3",
   "language": "python",
   "name": "python3"
  },
  "language_info": {
   "codemirror_mode": {
    "name": "ipython",
    "version": 3
   },
   "file_extension": ".py",
   "mimetype": "text/x-python",
   "name": "python",
   "nbconvert_exporter": "python",
   "pygments_lexer": "ipython3",
   "version": "3.7.1"
  }
 },
 "nbformat": 4,
 "nbformat_minor": 2
}
